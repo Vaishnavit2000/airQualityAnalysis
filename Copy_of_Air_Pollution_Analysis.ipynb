{
  "nbformat": 4,
  "nbformat_minor": 0,
  "metadata": {
    "colab": {
      "name": "Copy of Air_Pollution_Analysis.ipynb",
      "provenance": [],
      "collapsed_sections": [],
      "include_colab_link": true
    },
    "kernelspec": {
      "name": "python3",
      "display_name": "Python 3"
    }
  },
  "cells": [
    {
      "cell_type": "markdown",
      "metadata": {
        "id": "view-in-github",
        "colab_type": "text"
      },
      "source": [
        "<a href=\"https://colab.research.google.com/github/Vaishnavit2000/airQualityAnalysis/blob/main/Copy_of_Air_Pollution_Analysis.ipynb\" target=\"_parent\"><img src=\"https://colab.research.google.com/assets/colab-badge.svg\" alt=\"Open In Colab\"/></a>"
      ]
    },
    {
      "cell_type": "code",
      "metadata": {
        "colab": {
          "base_uri": "https://localhost:8080/",
          "height": 407
        },
        "id": "3HLGvSi5PTUH",
        "outputId": "4ce871b7-64a2-4bb3-d06a-59c74455a8ec"
      },
      "source": [
        "!pip install anvil-uplink"
      ],
      "execution_count": null,
      "outputs": [
        {
          "output_type": "stream",
          "text": [
            "Collecting anvil-uplink\n",
            "\u001b[?25l  Downloading https://files.pythonhosted.org/packages/a1/e7/4eb5859dd68eab5baf07e91e38eebd0fa7fa87aef4f2ebc5ca00490c8bbc/anvil_uplink-0.3.34-py2.py3-none-any.whl (58kB)\n",
            "\r\u001b[K     |█████▋                          | 10kB 18.1MB/s eta 0:00:01\r\u001b[K     |███████████▏                    | 20kB 22.4MB/s eta 0:00:01\r\u001b[K     |████████████████▉               | 30kB 26.0MB/s eta 0:00:01\r\u001b[K     |██████████████████████▍         | 40kB 19.2MB/s eta 0:00:01\r\u001b[K     |████████████████████████████    | 51kB 16.4MB/s eta 0:00:01\r\u001b[K     |████████████████████████████████| 61kB 6.6MB/s \n",
            "\u001b[?25hRequirement already satisfied: future in /usr/local/lib/python3.6/dist-packages (from anvil-uplink) (0.16.0)\n",
            "Requirement already satisfied: six in /usr/local/lib/python3.6/dist-packages (from anvil-uplink) (1.15.0)\n",
            "Collecting argparse\n",
            "  Downloading https://files.pythonhosted.org/packages/f2/94/3af39d34be01a24a6e65433d19e107099374224905f1e0cc6bbe1fd22a2f/argparse-1.4.0-py2.py3-none-any.whl\n",
            "Collecting ws4py\n",
            "\u001b[?25l  Downloading https://files.pythonhosted.org/packages/53/20/4019a739b2eefe9282d3822ef6a225250af964b117356971bd55e274193c/ws4py-0.5.1.tar.gz (51kB)\n",
            "\u001b[K     |████████████████████████████████| 61kB 5.6MB/s \n",
            "\u001b[?25hBuilding wheels for collected packages: ws4py\n",
            "  Building wheel for ws4py (setup.py) ... \u001b[?25l\u001b[?25hdone\n",
            "  Created wheel for ws4py: filename=ws4py-0.5.1-cp36-none-any.whl size=45218 sha256=60c5578cc2fcf2dfd845fc024895c7b3106223d1a1408c8cffe90fddb4c553e0\n",
            "  Stored in directory: /root/.cache/pip/wheels/a2/6e/4e/8b0ae12fb9b8a05715256952cf7609a8ab86285fab99b88c68\n",
            "Successfully built ws4py\n",
            "Installing collected packages: argparse, ws4py, anvil-uplink\n",
            "Successfully installed anvil-uplink-0.3.34 argparse-1.4.0 ws4py-0.5.1\n"
          ],
          "name": "stdout"
        },
        {
          "output_type": "display_data",
          "data": {
            "application/vnd.colab-display-data+json": {
              "pip_warning": {
                "packages": [
                  "argparse",
                  "google"
                ]
              }
            }
          },
          "metadata": {
            "tags": []
          }
        }
      ]
    },
    {
      "cell_type": "code",
      "metadata": {
        "colab": {
          "base_uri": "https://localhost:8080/"
        },
        "id": "-nGv6SPwQrhD",
        "outputId": "564b8e19-0754-430a-d9f7-2631ae79c92a"
      },
      "source": [
        "import anvil.server\n",
        "\n",
        "anvil.server.connect(\"LF7LHVR7OGKHIBQFAZ3C452O-TQQERCIGZZEJZEOM\")"
      ],
      "execution_count": null,
      "outputs": [
        {
          "output_type": "stream",
          "text": [
            "Connecting to wss://anvil.works/uplink\n",
            "Anvil websocket open\n",
            "Connected to \"Default environment (dev)\" as SERVER\n"
          ],
          "name": "stdout"
        }
      ]
    },
    {
      "cell_type": "markdown",
      "metadata": {
        "id": "KO4GP6gAaIfw"
      },
      "source": [
        "**1. Plotted pie chart to show the major pollutant in pune city.**"
      ]
    },
    {
      "cell_type": "code",
      "metadata": {
        "id": "0sk77cGqRlEq"
      },
      "source": [
        "import anvil.mpl_util\n",
        "import requests\n",
        "import matplotlib.pyplot as plt\n",
        "  \n",
        "@anvil.server.callable\n",
        "def make_plot(city):\n",
        "  \n",
        "  city=city.lower()\n",
        "  url = 'http://api.waqi.info/feed/' + city + '/?token='\n",
        "  api_key = '839dc94110707171ebdc025b28b20bd7d342aa56'\n",
        "\n",
        "  #generated the url to access \n",
        "  main_url = url + api_key\n",
        "\n",
        "  #request to the url\n",
        "  r = requests.get(main_url)\n",
        "  #print(r)\n",
        "  data = r.json()['data']\n",
        "  # data\n",
        "  aqi = data['aqi']\n",
        "  iaqi = data['iaqi']\n",
        "  del iaqi['p']\n",
        "  del iaqi['h']\n",
        "  del iaqi['t']\n",
        "  del iaqi['w']\n",
        "  # print(iaqi)\n",
        "  # for i in iaqi.items():\n",
        "  #   print(i[0],':',i[1]['v'])\n",
        "  \n",
        "  pollutants = [i for i in iaqi]\n",
        "  # print(pollutants)\n",
        "  values = [i['v'] for i in iaqi.values()]\n",
        "  # print(values)\n",
        "\n",
        "  #plot a pie chart\n",
        "\n",
        "  explode = [0 for i in pollutants]\n",
        "  mx = values.index(max(values))\n",
        "  # print(pollutants[mx])\n",
        "\n",
        "  explode[mx] = 0.1\n",
        "  plt.figure(figsize=(10,8))\n",
        "  plt.pie(values , labels=pollutants , autopct='%1.1f%%' , shadow=True , explode=explode) \n",
        "\n",
        "  \n",
        "  # Return this plot as a PNG image in a Media object\n",
        "  return anvil.mpl_util.plot_image()"
      ],
      "execution_count": null,
      "outputs": []
    },
    {
      "cell_type": "markdown",
      "metadata": {
        "id": "HVNSyqreenSK"
      },
      "source": [
        "#Using Cartopy"
      ]
    },
    {
      "cell_type": "code",
      "metadata": {
        "id": "YqA2zIuQKBAg",
        "colab": {
          "base_uri": "https://localhost:8080/"
        },
        "outputId": "cf4bcaca-e48c-4919-ffae-5677e2742111"
      },
      "source": [
        "!apt-get install libproj-dev proj-data proj-bin\n",
        "!apt-get install libgeos-dev\n",
        "!pip install cython\n",
        "!pip install cartopy"
      ],
      "execution_count": null,
      "outputs": [
        {
          "output_type": "stream",
          "text": [
            "Reading package lists... Done\n",
            "Building dependency tree       \n",
            "Reading state information... Done\n",
            "proj-data is already the newest version (4.9.3-2).\n",
            "proj-data set to manually installed.\n",
            "The following NEW packages will be installed:\n",
            "  libproj-dev proj-bin\n",
            "0 upgraded, 2 newly installed, 0 to remove and 14 not upgraded.\n",
            "Need to get 232 kB of archives.\n",
            "After this operation, 1,220 kB of additional disk space will be used.\n",
            "Get:1 http://archive.ubuntu.com/ubuntu bionic/universe amd64 libproj-dev amd64 4.9.3-2 [199 kB]\n",
            "Get:2 http://archive.ubuntu.com/ubuntu bionic/universe amd64 proj-bin amd64 4.9.3-2 [32.3 kB]\n",
            "Fetched 232 kB in 0s (2,444 kB/s)\n",
            "Selecting previously unselected package libproj-dev:amd64.\n",
            "(Reading database ... 144865 files and directories currently installed.)\n",
            "Preparing to unpack .../libproj-dev_4.9.3-2_amd64.deb ...\n",
            "Unpacking libproj-dev:amd64 (4.9.3-2) ...\n",
            "Selecting previously unselected package proj-bin.\n",
            "Preparing to unpack .../proj-bin_4.9.3-2_amd64.deb ...\n",
            "Unpacking proj-bin (4.9.3-2) ...\n",
            "Setting up libproj-dev:amd64 (4.9.3-2) ...\n",
            "Setting up proj-bin (4.9.3-2) ...\n",
            "Processing triggers for man-db (2.8.3-2ubuntu0.1) ...\n",
            "Reading package lists... Done\n",
            "Building dependency tree       \n",
            "Reading state information... Done\n",
            "Suggested packages:\n",
            "  libgdal-doc\n",
            "The following NEW packages will be installed:\n",
            "  libgeos-dev\n",
            "0 upgraded, 1 newly installed, 0 to remove and 14 not upgraded.\n",
            "Need to get 73.1 kB of archives.\n",
            "After this operation, 486 kB of additional disk space will be used.\n",
            "Get:1 http://archive.ubuntu.com/ubuntu bionic/universe amd64 libgeos-dev amd64 3.6.2-1build2 [73.1 kB]\n",
            "Fetched 73.1 kB in 0s (1,380 kB/s)\n",
            "Selecting previously unselected package libgeos-dev.\n",
            "(Reading database ... 144898 files and directories currently installed.)\n",
            "Preparing to unpack .../libgeos-dev_3.6.2-1build2_amd64.deb ...\n",
            "Unpacking libgeos-dev (3.6.2-1build2) ...\n",
            "Setting up libgeos-dev (3.6.2-1build2) ...\n",
            "Processing triggers for man-db (2.8.3-2ubuntu0.1) ...\n",
            "Requirement already satisfied: cython in /usr/local/lib/python3.6/dist-packages (0.29.21)\n",
            "Collecting cartopy\n",
            "\u001b[?25l  Downloading https://files.pythonhosted.org/packages/46/c1/04e50c9986842f00f7db0e7a65caa896840050d7328f74e5b7437aa01179/Cartopy-0.18.0.tar.gz (14.4MB)\n",
            "\u001b[K     |████████████████████████████████| 14.4MB 253kB/s \n",
            "\u001b[?25hRequirement already satisfied: numpy>=1.10 in /usr/local/lib/python3.6/dist-packages (from cartopy) (1.18.5)\n",
            "Requirement already satisfied: shapely>=1.5.6 in /usr/local/lib/python3.6/dist-packages (from cartopy) (1.7.1)\n",
            "Collecting pyshp>=1.1.4\n",
            "\u001b[?25l  Downloading https://files.pythonhosted.org/packages/ca/1f/e9cc2c3fce32e2926581f8b6905831165235464c858ba550b6e9b8ef78c3/pyshp-2.1.2.tar.gz (217kB)\n",
            "\u001b[K     |████████████████████████████████| 225kB 46.8MB/s \n",
            "\u001b[?25hRequirement already satisfied: six>=1.3.0 in /usr/local/lib/python3.6/dist-packages (from cartopy) (1.15.0)\n",
            "Requirement already satisfied: setuptools>=0.7.2 in /usr/local/lib/python3.6/dist-packages (from cartopy) (50.3.2)\n",
            "Building wheels for collected packages: cartopy, pyshp\n",
            "  Building wheel for cartopy (setup.py) ... \u001b[?25l\u001b[?25hdone\n",
            "  Created wheel for cartopy: filename=Cartopy-0.18.0-cp36-cp36m-linux_x86_64.whl size=15132428 sha256=bab872fc935910c0bdcbf85061336e35c5373ca2528f098e07b0b2f5511ff67e\n",
            "  Stored in directory: /root/.cache/pip/wheels/8d/f8/da/2c05136f2162370d2baec85bfbbf91d7729ab9e248da878acd\n",
            "  Building wheel for pyshp (setup.py) ... \u001b[?25l\u001b[?25hdone\n",
            "  Created wheel for pyshp: filename=pyshp-2.1.2-cp36-none-any.whl size=36216 sha256=7e9f58e96dbca7aa47c299065f5d2197c3a8d482cd8c4d71c78a2e338777e28d\n",
            "  Stored in directory: /root/.cache/pip/wheels/96/6c/53/4112475adf3b831da97f083163d0f38ee6daac9c1b13f7afea\n",
            "Successfully built cartopy pyshp\n",
            "Installing collected packages: pyshp, cartopy\n",
            "Successfully installed cartopy-0.18.0 pyshp-2.1.2\n"
          ],
          "name": "stdout"
        }
      ]
    },
    {
      "cell_type": "code",
      "metadata": {
        "colab": {
          "base_uri": "https://localhost:8080/"
        },
        "id": "Q0QQIOYya5Ty",
        "outputId": "9677c795-a478-41a5-ef28-d5fef735f69a"
      },
      "source": [
        "!pip uninstall shapely\n",
        "!pip install shapely --no-binary shapely"
      ],
      "execution_count": null,
      "outputs": [
        {
          "output_type": "stream",
          "text": [
            "Uninstalling Shapely-1.7.1:\n",
            "  Would remove:\n",
            "    /usr/local/lib/python3.6/dist-packages/Shapely-1.7.1.dist-info/*\n",
            "    /usr/local/lib/python3.6/dist-packages/shapely/*\n",
            "Proceed (y/n)? y\n",
            "  Successfully uninstalled Shapely-1.7.1\n",
            "Collecting shapely\n",
            "\u001b[?25l  Downloading https://files.pythonhosted.org/packages/42/f3/0e1bc2c4f15e05e30c6b99322b9ddaa2babb3f43bc7df2698efdc1553439/Shapely-1.7.1.tar.gz (383kB)\n",
            "\u001b[K     |████████████████████████████████| 389kB 11.7MB/s \n",
            "\u001b[?25hSkipping wheel build for shapely, due to binaries being disabled for it.\n",
            "\u001b[31mERROR: albumentations 0.1.12 has requirement imgaug<0.2.7,>=0.2.5, but you'll have imgaug 0.2.9 which is incompatible.\u001b[0m\n",
            "Installing collected packages: shapely\n",
            "    Running setup.py install for shapely ... \u001b[?25l\u001b[?25hdone\n",
            "Successfully installed shapely-1.7.1\n"
          ],
          "name": "stdout"
        }
      ]
    },
    {
      "cell_type": "markdown",
      "metadata": {
        "id": "MUkx1Gwqey0l"
      },
      "source": [
        "**2.Plotted the city on world map**"
      ]
    },
    {
      "cell_type": "code",
      "metadata": {
        "id": "UfyG9cKRbZUZ"
      },
      "source": [
        "import cartopy.crs as ccrs\n",
        "import anvil.mpl_util\n",
        "  \n",
        "@anvil.server.callable\n",
        "def show_on_map(city):\n",
        "  url = 'http://api.waqi.info/feed/' + city + '/?token='\n",
        "  api_key = '839dc94110707171ebdc025b28b20bd7d342aa56'\n",
        "\n",
        "  #generated the url to access \n",
        "  main_url = url + api_key\n",
        "\n",
        "  #request to the url\n",
        "  r = requests.get(main_url)\n",
        "  #print(r)\n",
        "  data = r.json()['data']\n",
        "  aqi = data['aqi']\n",
        "  geo = data['city']['geo']\n",
        "  fig = plt.figure(figsize=(10,8))\n",
        "  ax = plt.axes(projection=ccrs.PlateCarree())\n",
        "  ax.stock_img()\n",
        "\n",
        "  plt.scatter(geo[1],geo[0],color='blue')\n",
        "  plt.text(geo[1] + 3,geo[0]-2,f'{city} AQI \\n   {aqi}',color='red')\n",
        "  return anvil.mpl_util.plot_image()\n",
        "  # plt.show()"
      ],
      "execution_count": null,
      "outputs": []
    },
    {
      "cell_type": "markdown",
      "metadata": {
        "id": "KXcaenrHgCSz"
      },
      "source": [
        "#Analysis of Pune\n",
        "\n"
      ]
    },
    {
      "cell_type": "markdown",
      "metadata": {
        "id": "uM2SSe6Spw_y"
      },
      "source": [
        "**Plot comparision of pm25 before and after lockdown days** "
      ]
    },
    {
      "cell_type": "code",
      "metadata": {
        "id": "30_WxjGoyVLC"
      },
      "source": [
        "# from google.colab import drive\n",
        "# drive.mount('/content/drive')"
      ],
      "execution_count": null,
      "outputs": []
    },
    {
      "cell_type": "code",
      "metadata": {
        "colab": {
          "base_uri": "https://localhost:8080/"
        },
        "id": "fLVJdVZ2JJ8f",
        "outputId": "cc112a7b-34e1-4672-867a-f2a83e8d2f58"
      },
      "source": [
        "from google.colab import drive\n",
        "drive.mount('/content/drive')"
      ],
      "execution_count": null,
      "outputs": [
        {
          "output_type": "stream",
          "text": [
            "Mounted at /content/drive\n"
          ],
          "name": "stdout"
        }
      ]
    },
    {
      "cell_type": "code",
      "metadata": {
        "id": "r0RUvCHVm49Z"
      },
      "source": [
        "import pandas as pd\n",
        "import matplotlib.pyplot as plt\n",
        "import anvil.mpl_util\n",
        "  \n",
        "@anvil.server.callable\n",
        "def com():\n",
        "  csv_path = '/content/drive/MyDrive/Colab Notebooks/shivajinagar,-pune, pune, india-air-quality.csv'\n",
        "  df = pd.read_csv(csv_path)\n",
        "\n",
        "  df.columns\n",
        "  df = df.rename(columns={' pm25':'PM25',\n",
        "                          ' pm10':'PM10',\n",
        "                          ' o3':'O3',\n",
        "                          ' no2':'NO2',\n",
        "                          ' co':'CO'   \n",
        "  })\n",
        "\n",
        "  df['date'] = pd.to_datetime(df.date)\n",
        "  df21 = df.loc[df['date'].between( '2020-03-24', '2020-05-05' , inclusive=True)]\n",
        "  df21 = df21.sort_values(by = 'date')\n",
        "  df21.replace(' ' , '0' , inplace=True)\n",
        "  pm25 = df21['PM25']\n",
        "  pm25 = [int(i) for i in pm25]\n",
        "  df_beflock = df.loc[df['date'].between( '2020-02-09', '2020-03-22' , inclusive=True)]\n",
        "  df_beflock = df_beflock.sort_values(by = 'date')\n",
        "\n",
        "  pm25_bef = df_beflock['PM25']\n",
        "  pm25_bef = [int(i) for i in pm25_bef]\n",
        "  plt.figure(figsize=(10,8))\n",
        "\n",
        "  length = [i for i in range(1,len(df21)+1)]\n",
        "\n",
        "  plt.plot(length,pm25,color='blue',label='under lockdown')\n",
        "  plt.plot(length,pm25_bef,color='red',label='before lockdown')\n",
        "  plt.legend()\n",
        "  plt.title('Comparision of before lockdown vs under lockdown pm2.5 values')\n",
        "  return anvil.mpl_util.plot_image()\n",
        "# plt.show()"
      ],
      "execution_count": null,
      "outputs": []
    },
    {
      "cell_type": "markdown",
      "metadata": {
        "id": "3VLRKHa9lllA"
      },
      "source": [
        "#Comparision of different cities"
      ]
    },
    {
      "cell_type": "markdown",
      "metadata": {
        "id": "I1rgyw7e2p5k"
      },
      "source": [
        "**Plotting bar graph for compsrision of various cities**"
      ]
    },
    {
      "cell_type": "code",
      "metadata": {
        "id": "_cwxEJwA1t8o"
      },
      "source": [
        "import matplotlib.pyplot as plt\n",
        "import pandas as pd\n",
        "\n",
        "import anvil.mpl_util\n",
        "  \n",
        "@anvil.server.callable\n",
        "def show_bar_chart():\n",
        "  mumbai_data = pd.read_csv('/content/drive/MyDrive/Colab Notebooks/bandra,-mumbai, india-air-quality.csv')\n",
        "  # mumbai_data\n",
        "  delhi_data = pd.read_csv('/content/drive/MyDrive/Colab Notebooks/sonia-vihar water treatment plant djb, delhi, delhi, india-air-quality.csv')\n",
        "  # delhi_data\n",
        "  kolkata_data = pd.read_csv('/content/drive/MyDrive/Colab Notebooks/kolkata-us consulate, india-air-quality.csv')\n",
        "\n",
        "  hyderabad_data = pd.read_csv('/content/drive/MyDrive/Colab Notebooks/central-university, hyderabad, india-air-quality.csv')\n",
        "  # hyderabad_data\n",
        "  pune_data = pd.read_csv('/content/drive/MyDrive/Colab Notebooks/shivajinagar,-pune, pune, india-air-quality.csv')\n",
        "\n",
        "  # rename_col()\n",
        "  mumbai_data = mumbai_data.rename(columns={' pm25':'PM25',\n",
        "                          ' pm10':'PM10',\n",
        "                          ' o3':'O3',\n",
        "                          ' no2':'NO2',\n",
        "                          ' so2':'SO2',\n",
        "                          ' co':'CO'   \n",
        "  })\n",
        "\n",
        "\n",
        "  delhi_data = delhi_data.rename(columns={' pm25':'PM25',\n",
        "                          ' pm10':'PM10',\n",
        "                          ' o3':'O3',\n",
        "                          ' no2':'NO2',\n",
        "                          ' so2':'SO2',\n",
        "                          ' co':'CO'   \n",
        "  })\n",
        "\n",
        "\n",
        "  kolkata_data = kolkata_data.rename(columns={' pm25':'PM25',\n",
        "                            \n",
        "  })\n",
        "\n",
        "  hyderabad_data = hyderabad_data.rename(columns={' pm25':'PM25',\n",
        "                          ' pm10':'PM10',\n",
        "                          ' o3':'O3',\n",
        "                          ' no2':'NO2',\n",
        "                          ' so2':'SO2',\n",
        "                          ' co':'CO'   \n",
        "  })\n",
        "\n",
        "  pune_data = pune_data.rename(columns={' pm25':'PM25',\n",
        "                          ' pm10':'PM10',\n",
        "                          ' o3':'O3',\n",
        "                          ' no2':'NO2',\n",
        "                          ' co':'CO'   \n",
        "  })\n",
        "\n",
        "  # change_date()\n",
        "  mumbai_data['date'] = pd.to_datetime(mumbai_data.date)\n",
        "  delhi_data['date'] = pd.to_datetime(delhi_data.date)\n",
        "  kolkata_data['date'] = pd.to_datetime(kolkata_data.date)\n",
        "  hyderabad_data['date'] = pd.to_datetime(hyderabad_data.date)\n",
        "  pune_data['date'] = pd.to_datetime(pune_data.date)\n",
        "\n",
        "  # one_year()\n",
        "  mum_one_year = mumbai_data.loc[mumbai_data['date'].between( '2019-01-01', '2020-01-01' , inclusive=True)]\n",
        "  mum_one_year = mum_one_year.sort_values(by = 'date')\n",
        "\n",
        "  delhi_one_year = delhi_data.loc[delhi_data['date'].between( '2019-01-01', '2020-01-01' , inclusive=True)]\n",
        "  delhi_one_year = delhi_one_year.sort_values(by = 'date')\n",
        "\n",
        "  kol_one_year = kolkata_data.loc[kolkata_data['date'].between( '2019-01-01', '2020-01-01' , inclusive=True)]\n",
        "  kol_one_year = kol_one_year.sort_values(by = 'date')\n",
        "\n",
        "  hyd_one_year = hyderabad_data.loc[hyderabad_data['date'].between( '2019-01-01', '2020-01-01' , inclusive=True)]\n",
        "  hyd_one_year = hyd_one_year.sort_values(by = 'date')\n",
        "\n",
        "  pune_one_year = pune_data.loc[pune_data['date'].between( '2019-01-01', '2020-01-01' , inclusive=True)]\n",
        "  pune_one_year = pune_one_year.sort_values(by = 'date')\n",
        "\n",
        "  # replace_zero()\n",
        "  mum_one_year.replace(' ' , '0' , inplace=True)\n",
        "  delhi_one_year.replace(' ' , '0' , inplace=True)\n",
        "  kol_one_year.replace(' ' , '0' , inplace=True)\n",
        "  hyd_one_year.replace(' ' , '0' , inplace=True)\n",
        "  pune_one_year.replace(' ' , '0' , inplace=True)\n",
        "\n",
        "  # average_all()\n",
        "  mum_one_year['PM25'] = [int(i) for i in mum_one_year['PM25']]\n",
        "  mum_avg = mum_one_year['PM25'].mean()\n",
        "\n",
        "  delhi_one_year['PM25'] = [int(i) for i in delhi_one_year['PM25']]\n",
        "  delhi_avg = delhi_one_year['PM25'].mean()\n",
        "\n",
        "  kol_one_year['PM25'] = [int(i) for i in kol_one_year['PM25']]\n",
        "  kol_avg = kol_one_year['PM25'].mean()\n",
        "\n",
        "  hyd_one_year['PM25'] = [int(i) for i in hyd_one_year['PM25']]\n",
        "  hyd_avg = hyd_one_year['PM25'].mean()\n",
        "\n",
        "  pune_one_year['PM25'] = [int(i) for i in pune_one_year['PM25']]\n",
        "  pune_avg = pune_one_year['PM25'].mean()\n",
        "  \n",
        "  x=['Pune' , 'Mumbai' , 'Delhi' , 'Kolkata' , 'Hyderabad']\n",
        "  y=[pune_avg , mum_avg , delhi_avg , kol_avg , hyd_avg]\n",
        "  plt.figure(figsize=(10,8))\n",
        "  \n",
        "  plt.xlabel('Cities')\n",
        "  plt.ylabel(\"PM 2.5 concentration of a year\")\n",
        "  plt.title(\" Bar Chart\")\n",
        "  plt.bar(x,y,label=\"PM 2.5\",color='purple' )\n",
        "  plt.legend()\n",
        "  # plt.show()\n",
        "  return anvil.mpl_util.plot_image()"
      ],
      "execution_count": null,
      "outputs": []
    },
    {
      "cell_type": "code",
      "metadata": {
        "id": "kf-YVFFd4Ty6"
      },
      "source": [
        ""
      ],
      "execution_count": null,
      "outputs": []
    }
  ]
}